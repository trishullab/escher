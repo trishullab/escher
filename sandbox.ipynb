{
 "cells": [
  {
   "cell_type": "markdown",
   "metadata": {},
   "source": [
    "Simple example to see if the package is functioning properly."
   ]
  },
  {
   "cell_type": "code",
   "execution_count": 1,
   "metadata": {},
   "outputs": [
    {
     "name": "stderr",
     "output_type": "stream",
     "text": [
      "/var/local/atharvas/miniconda3/envs/escher-dev/lib/python3.12/site-packages/tqdm/auto.py:21: TqdmWarning: IProgress not found. Please update jupyter and ipywidgets. See https://ipywidgets.readthedocs.io/en/stable/user_install.html\n",
      "  from .autonotebook import tqdm as notebook_tqdm\n"
     ]
    }
   ],
   "source": [
    "import os\n",
    "from escher.utils.dataset_loader import get_dataset as get_image_dataset\n",
    "from escher.inference.model_ops import get_model, get_dataset\n",
    "os.environ[\"CUDA_VISIBLE_DEVICES\"] = \"5\""
   ]
  },
  {
   "cell_type": "code",
   "execution_count": 6,
   "metadata": {},
   "outputs": [],
   "source": [
    "dataset_name = \"nabirds\"\n",
    "clip_model_name = \"ViT-L/14\"\n",
    "device = \"cuda:5\"\n",
    "start_iteration = 0\n",
    "salt = \"\"\n",
    "image_size = 224"
   ]
  },
  {
   "cell_type": "code",
   "execution_count": 7,
   "metadata": {},
   "outputs": [
    {
     "name": "stderr",
     "output_type": "stream",
     "text": [
      "/var/local/atharvas/f/escher/escher/cbd_utils/nabirds.py:48: RuntimeWarning: The use of the download flag is deprecated, since the dataset is no longer publicly accessible.\n",
      "  warnings.warn(msg, RuntimeWarning)\n"
     ]
    },
    {
     "name": "stdout",
     "output_type": "stream",
     "text": [
      "Using conversational history\n",
      "Loaded model from iteration 0 onto device cuda:5\n",
      "using clip model: ViT-L/14 use_open_clip False\n"
     ]
    }
   ],
   "source": [
    "kwargs = dict()\n",
    "test_dataset = get_image_dataset(\n",
    "    clip_model_name,\n",
    "    dataset_name,\n",
    "    image_size=image_size,\n",
    "    transform=False,\n",
    "    val_only=True,\n",
    ")\n",
    "train_clip_dataset, test_clip_dataset, val_clip_dataset = get_dataset(\n",
    "    dataset_name,\n",
    "    clip_model_name,\n",
    "    device=device,\n",
    "    use_open_clip=kwargs.get(\"use_open_clip\", False),\n",
    ")\n",
    "classes = train_clip_dataset.classes\n",
    "\n",
    "model, descriptors = get_model(\n",
    "    algorithm=\"zero_shot\",\n",
    "    dataset_name=dataset_name,\n",
    "    device=device,\n",
    "    log_iteration=start_iteration,\n",
    "    salt=salt,\n",
    "    return_descriptors=True,\n",
    "    clip_model_name=clip_model_name,\n",
    "    dataset=val_clip_dataset,\n",
    "    **kwargs,\n",
    ")\n"
   ]
  },
  {
   "cell_type": "code",
   "execution_count": 8,
   "metadata": {},
   "outputs": [
    {
     "data": {
      "text/plain": [
       "(['white belly and underparts',\n",
       "  'black bill with pink or orange \"grinning patch\"',\n",
       "  'often perched on top of cacti or other plants',\n",
       "  'fleshy, red wattle hanging from the throat',\n",
       "  'white patch on the throat and sides of the neck',\n",
       "  'a medium-sized bird of prey',\n",
       "  'dark brown or black back and wings',\n",
       "  'short, fan-shaped tail',\n",
       "  'yellow-green rump and undertail coverts',\n",
       "  'found in wooded areas or gardens with trees'],\n",
       " 4.367567567567567)"
      ]
     },
     "execution_count": 8,
     "metadata": {},
     "output_type": "execute_result"
    }
   ],
   "source": [
    "model.library.get_attributes()[:10], len(model.library.get_attributes()) / len(train_clip_dataset.classes)"
   ]
  },
  {
   "cell_type": "code",
   "execution_count": 9,
   "metadata": {},
   "outputs": [
    {
     "name": "stderr",
     "output_type": "stream",
     "text": [
      "getting text embeddings: 100%|██████████| 3/3 [00:02<00:00,  1.46it/s]"
     ]
    },
    {
     "name": "stdout",
     "output_type": "stream",
     "text": [
      "Accuracy of baseline 53.57142686843872\n"
     ]
    },
    {
     "name": "stderr",
     "output_type": "stream",
     "text": [
      "\n"
     ]
    }
   ],
   "source": [
    "scores = model.calculate_clip_scores(test_clip_dataset.images)\n",
    "test_predictions = model.predict(test_clip_dataset.images, clip_scores=scores)\n",
    "acc = ((test_predictions == test_clip_dataset.labels).sum() / len(test_clip_dataset.labels)).item() * 100\n",
    "\n",
    "print(\"Accuracy of baseline\", acc)"
   ]
  }
 ],
 "metadata": {
  "kernelspec": {
   "display_name": "escher-dev",
   "language": "python",
   "name": "python3"
  },
  "language_info": {
   "codemirror_mode": {
    "name": "ipython",
    "version": 3
   },
   "file_extension": ".py",
   "mimetype": "text/x-python",
   "name": "python",
   "nbconvert_exporter": "python",
   "pygments_lexer": "ipython3",
   "version": "3.12.0"
  }
 },
 "nbformat": 4,
 "nbformat_minor": 2
}
